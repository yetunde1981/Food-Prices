{
 "cells": [
  {
   "cell_type": "code",
   "execution_count": 2,
   "id": "2710b53f-fffe-45ed-8a47-af75a1a48239",
   "metadata": {},
   "outputs": [
    {
     "name": "stdout",
     "output_type": "stream",
     "text": [
      "ready\n"
     ]
    }
   ],
   "source": [
    "import numpy as np\n",
    "import pandas as pd\n",
    "import matplotlib\n",
    "from matplotlib import pyplot as plt\n",
    "import seaborn as sns\n",
    "\n",
    "print('ready')\n"
   ]
  },
  {
   "cell_type": "markdown",
   "id": "b36ee371-f22e-4e50-bb54-9c460a1249fa",
   "metadata": {},
   "source": [
    "#  loading of dataset"
   ]
  },
  {
   "cell_type": "code",
   "execution_count": 3,
   "id": "04059591-5fcf-42e7-be3f-1cacd108ebd7",
   "metadata": {},
   "outputs": [],
   "source": [
    "url = './datasets/africa_food_prices.csv'"
   ]
  },
  {
   "cell_type": "code",
   "execution_count": 4,
   "id": "07ec9a2e-8f09-4678-a54b-b2094d045e74",
   "metadata": {},
   "outputs": [],
   "source": [
    "df = pd.read_csv(url)"
   ]
  },
  {
   "cell_type": "code",
   "execution_count": 5,
   "id": "1b7316fb-89e2-47d0-9943-137fa3b4d205",
   "metadata": {},
   "outputs": [
    {
     "data": {
      "text/html": [
       "<div>\n",
       "<style scoped>\n",
       "    .dataframe tbody tr th:only-of-type {\n",
       "        vertical-align: middle;\n",
       "    }\n",
       "\n",
       "    .dataframe tbody tr th {\n",
       "        vertical-align: top;\n",
       "    }\n",
       "\n",
       "    .dataframe thead th {\n",
       "        text-align: right;\n",
       "    }\n",
       "</style>\n",
       "<table border=\"1\" class=\"dataframe\">\n",
       "  <thead>\n",
       "    <tr style=\"text-align: right;\">\n",
       "      <th></th>\n",
       "      <th>Unnamed: 0</th>\n",
       "      <th>country_id</th>\n",
       "      <th>country</th>\n",
       "      <th>state_id</th>\n",
       "      <th>state</th>\n",
       "      <th>market_id</th>\n",
       "      <th>market</th>\n",
       "      <th>produce_id</th>\n",
       "      <th>produce</th>\n",
       "      <th>currency_id</th>\n",
       "      <th>currency</th>\n",
       "      <th>pt_id</th>\n",
       "      <th>market_type</th>\n",
       "      <th>um_unit_id</th>\n",
       "      <th>quantity</th>\n",
       "      <th>month</th>\n",
       "      <th>year</th>\n",
       "      <th>price</th>\n",
       "      <th>mp_commoditysource</th>\n",
       "    </tr>\n",
       "  </thead>\n",
       "  <tbody>\n",
       "    <tr>\n",
       "      <th>0</th>\n",
       "      <td>15427</td>\n",
       "      <td>4.0</td>\n",
       "      <td>Algeria</td>\n",
       "      <td>344</td>\n",
       "      <td>Alger</td>\n",
       "      <td>1794</td>\n",
       "      <td>Algiers</td>\n",
       "      <td>52</td>\n",
       "      <td>Rice - Retail</td>\n",
       "      <td>0.0</td>\n",
       "      <td>DZD</td>\n",
       "      <td>15</td>\n",
       "      <td>Retail</td>\n",
       "      <td>5</td>\n",
       "      <td>KG</td>\n",
       "      <td>4</td>\n",
       "      <td>2015</td>\n",
       "      <td>90.0</td>\n",
       "      <td>NaN</td>\n",
       "    </tr>\n",
       "    <tr>\n",
       "      <th>1</th>\n",
       "      <td>15428</td>\n",
       "      <td>4.0</td>\n",
       "      <td>Algeria</td>\n",
       "      <td>344</td>\n",
       "      <td>Alger</td>\n",
       "      <td>1794</td>\n",
       "      <td>Algiers</td>\n",
       "      <td>52</td>\n",
       "      <td>Rice - Retail</td>\n",
       "      <td>0.0</td>\n",
       "      <td>DZD</td>\n",
       "      <td>15</td>\n",
       "      <td>Retail</td>\n",
       "      <td>5</td>\n",
       "      <td>KG</td>\n",
       "      <td>5</td>\n",
       "      <td>2015</td>\n",
       "      <td>96.0</td>\n",
       "      <td>NaN</td>\n",
       "    </tr>\n",
       "    <tr>\n",
       "      <th>2</th>\n",
       "      <td>15429</td>\n",
       "      <td>4.0</td>\n",
       "      <td>Algeria</td>\n",
       "      <td>344</td>\n",
       "      <td>Alger</td>\n",
       "      <td>1794</td>\n",
       "      <td>Algiers</td>\n",
       "      <td>52</td>\n",
       "      <td>Rice - Retail</td>\n",
       "      <td>0.0</td>\n",
       "      <td>DZD</td>\n",
       "      <td>15</td>\n",
       "      <td>Retail</td>\n",
       "      <td>5</td>\n",
       "      <td>KG</td>\n",
       "      <td>6</td>\n",
       "      <td>2015</td>\n",
       "      <td>96.0</td>\n",
       "      <td>NaN</td>\n",
       "    </tr>\n",
       "    <tr>\n",
       "      <th>3</th>\n",
       "      <td>15430</td>\n",
       "      <td>4.0</td>\n",
       "      <td>Algeria</td>\n",
       "      <td>344</td>\n",
       "      <td>Alger</td>\n",
       "      <td>1794</td>\n",
       "      <td>Algiers</td>\n",
       "      <td>52</td>\n",
       "      <td>Rice - Retail</td>\n",
       "      <td>0.0</td>\n",
       "      <td>DZD</td>\n",
       "      <td>15</td>\n",
       "      <td>Retail</td>\n",
       "      <td>5</td>\n",
       "      <td>KG</td>\n",
       "      <td>7</td>\n",
       "      <td>2015</td>\n",
       "      <td>83.0</td>\n",
       "      <td>NaN</td>\n",
       "    </tr>\n",
       "    <tr>\n",
       "      <th>4</th>\n",
       "      <td>15431</td>\n",
       "      <td>4.0</td>\n",
       "      <td>Algeria</td>\n",
       "      <td>344</td>\n",
       "      <td>Alger</td>\n",
       "      <td>1794</td>\n",
       "      <td>Algiers</td>\n",
       "      <td>52</td>\n",
       "      <td>Rice - Retail</td>\n",
       "      <td>0.0</td>\n",
       "      <td>DZD</td>\n",
       "      <td>15</td>\n",
       "      <td>Retail</td>\n",
       "      <td>5</td>\n",
       "      <td>KG</td>\n",
       "      <td>8</td>\n",
       "      <td>2015</td>\n",
       "      <td>80.0</td>\n",
       "      <td>NaN</td>\n",
       "    </tr>\n",
       "  </tbody>\n",
       "</table>\n",
       "</div>"
      ],
      "text/plain": [
       "   Unnamed: 0  country_id  country  state_id  state  market_id   market  \\\n",
       "0       15427         4.0  Algeria       344  Alger       1794  Algiers   \n",
       "1       15428         4.0  Algeria       344  Alger       1794  Algiers   \n",
       "2       15429         4.0  Algeria       344  Alger       1794  Algiers   \n",
       "3       15430         4.0  Algeria       344  Alger       1794  Algiers   \n",
       "4       15431         4.0  Algeria       344  Alger       1794  Algiers   \n",
       "\n",
       "   produce_id        produce  currency_id currency  pt_id market_type  \\\n",
       "0          52  Rice - Retail          0.0      DZD     15      Retail   \n",
       "1          52  Rice - Retail          0.0      DZD     15      Retail   \n",
       "2          52  Rice - Retail          0.0      DZD     15      Retail   \n",
       "3          52  Rice - Retail          0.0      DZD     15      Retail   \n",
       "4          52  Rice - Retail          0.0      DZD     15      Retail   \n",
       "\n",
       "   um_unit_id quantity  month  year  price  mp_commoditysource  \n",
       "0           5       KG      4  2015   90.0                 NaN  \n",
       "1           5       KG      5  2015   96.0                 NaN  \n",
       "2           5       KG      6  2015   96.0                 NaN  \n",
       "3           5       KG      7  2015   83.0                 NaN  \n",
       "4           5       KG      8  2015   80.0                 NaN  "
      ]
     },
     "execution_count": 5,
     "metadata": {},
     "output_type": "execute_result"
    }
   ],
   "source": [
    "df.head()"
   ]
  },
  {
   "cell_type": "code",
   "execution_count": 6,
   "id": "b6389392-2dc5-45a2-96af-e5aefdc311df",
   "metadata": {},
   "outputs": [
    {
     "data": {
      "text/plain": [
       "Index(['Unnamed: 0', 'country_id', 'country', 'state_id', 'state', 'market_id',\n",
       "       'market', 'produce_id', 'produce', 'currency_id', 'currency', 'pt_id',\n",
       "       'market_type', 'um_unit_id', 'quantity', 'month', 'year', 'price',\n",
       "       'mp_commoditysource'],\n",
       "      dtype='object')"
      ]
     },
     "execution_count": 6,
     "metadata": {},
     "output_type": "execute_result"
    }
   ],
   "source": [
    "df.columns"
   ]
  },
  {
   "cell_type": "markdown",
   "id": "731ece59-4b4d-4808-990e-3adf28d51367",
   "metadata": {},
   "source": [
    "# delecting columns"
   ]
  },
  {
   "cell_type": "code",
   "execution_count": 9,
   "id": "233d7409-b493-402a-9827-e42012bbc1db",
   "metadata": {},
   "outputs": [],
   "source": [
    "allcols =['Unnamed: 0', 'country_id', 'country', 'state_id', 'state', 'market_id',\n",
    "       'market', 'produce_id', 'produce', 'currency_id', 'currency', 'pt_id',\n",
    "       'market_type', 'um_unit_id', 'quantity', 'month', 'year', 'price',\n",
    "       'mp_commoditysource']\n",
    "      \n",
    "dropcols = ['Unnamed: 0','country_id','market_id','produce_id','currency_id','pt_id','um_unit_id','mp_commoditysource']    "
   ]
  },
  {
   "cell_type": "code",
   "execution_count": 10,
   "id": "92ac8ba9-e4ce-456a-8889-8f74c6e7015e",
   "metadata": {},
   "outputs": [],
   "source": [
    "df = df.drop(columns = dropcols)"
   ]
  },
  {
   "cell_type": "code",
   "execution_count": 11,
   "id": "929019ab-3681-4895-af09-7e78f6ba4a48",
   "metadata": {},
   "outputs": [
    {
     "data": {
      "text/html": [
       "<div>\n",
       "<style scoped>\n",
       "    .dataframe tbody tr th:only-of-type {\n",
       "        vertical-align: middle;\n",
       "    }\n",
       "\n",
       "    .dataframe tbody tr th {\n",
       "        vertical-align: top;\n",
       "    }\n",
       "\n",
       "    .dataframe thead th {\n",
       "        text-align: right;\n",
       "    }\n",
       "</style>\n",
       "<table border=\"1\" class=\"dataframe\">\n",
       "  <thead>\n",
       "    <tr style=\"text-align: right;\">\n",
       "      <th></th>\n",
       "      <th>country</th>\n",
       "      <th>state_id</th>\n",
       "      <th>state</th>\n",
       "      <th>market</th>\n",
       "      <th>produce</th>\n",
       "      <th>currency</th>\n",
       "      <th>market_type</th>\n",
       "      <th>quantity</th>\n",
       "      <th>month</th>\n",
       "      <th>year</th>\n",
       "      <th>price</th>\n",
       "    </tr>\n",
       "  </thead>\n",
       "  <tbody>\n",
       "    <tr>\n",
       "      <th>0</th>\n",
       "      <td>Algeria</td>\n",
       "      <td>344</td>\n",
       "      <td>Alger</td>\n",
       "      <td>Algiers</td>\n",
       "      <td>Rice - Retail</td>\n",
       "      <td>DZD</td>\n",
       "      <td>Retail</td>\n",
       "      <td>KG</td>\n",
       "      <td>4</td>\n",
       "      <td>2015</td>\n",
       "      <td>90.0000</td>\n",
       "    </tr>\n",
       "    <tr>\n",
       "      <th>1</th>\n",
       "      <td>Algeria</td>\n",
       "      <td>344</td>\n",
       "      <td>Alger</td>\n",
       "      <td>Algiers</td>\n",
       "      <td>Rice - Retail</td>\n",
       "      <td>DZD</td>\n",
       "      <td>Retail</td>\n",
       "      <td>KG</td>\n",
       "      <td>5</td>\n",
       "      <td>2015</td>\n",
       "      <td>96.0000</td>\n",
       "    </tr>\n",
       "    <tr>\n",
       "      <th>2</th>\n",
       "      <td>Algeria</td>\n",
       "      <td>344</td>\n",
       "      <td>Alger</td>\n",
       "      <td>Algiers</td>\n",
       "      <td>Rice - Retail</td>\n",
       "      <td>DZD</td>\n",
       "      <td>Retail</td>\n",
       "      <td>KG</td>\n",
       "      <td>6</td>\n",
       "      <td>2015</td>\n",
       "      <td>96.0000</td>\n",
       "    </tr>\n",
       "    <tr>\n",
       "      <th>3</th>\n",
       "      <td>Algeria</td>\n",
       "      <td>344</td>\n",
       "      <td>Alger</td>\n",
       "      <td>Algiers</td>\n",
       "      <td>Rice - Retail</td>\n",
       "      <td>DZD</td>\n",
       "      <td>Retail</td>\n",
       "      <td>KG</td>\n",
       "      <td>7</td>\n",
       "      <td>2015</td>\n",
       "      <td>83.0000</td>\n",
       "    </tr>\n",
       "    <tr>\n",
       "      <th>4</th>\n",
       "      <td>Algeria</td>\n",
       "      <td>344</td>\n",
       "      <td>Alger</td>\n",
       "      <td>Algiers</td>\n",
       "      <td>Rice - Retail</td>\n",
       "      <td>DZD</td>\n",
       "      <td>Retail</td>\n",
       "      <td>KG</td>\n",
       "      <td>8</td>\n",
       "      <td>2015</td>\n",
       "      <td>80.0000</td>\n",
       "    </tr>\n",
       "    <tr>\n",
       "      <th>...</th>\n",
       "      <td>...</td>\n",
       "      <td>...</td>\n",
       "      <td>...</td>\n",
       "      <td>...</td>\n",
       "      <td>...</td>\n",
       "      <td>...</td>\n",
       "      <td>...</td>\n",
       "      <td>...</td>\n",
       "      <td>...</td>\n",
       "      <td>...</td>\n",
       "      <td>...</td>\n",
       "    </tr>\n",
       "    <tr>\n",
       "      <th>956774</th>\n",
       "      <td>Zimbabwe</td>\n",
       "      <td>3444</td>\n",
       "      <td>Midlands</td>\n",
       "      <td>Mbilashaba</td>\n",
       "      <td>Beans (sugar) - Retail</td>\n",
       "      <td>ZWL</td>\n",
       "      <td>Retail</td>\n",
       "      <td>KG</td>\n",
       "      <td>6</td>\n",
       "      <td>2021</td>\n",
       "      <td>233.3333</td>\n",
       "    </tr>\n",
       "    <tr>\n",
       "      <th>956775</th>\n",
       "      <td>Zimbabwe</td>\n",
       "      <td>3444</td>\n",
       "      <td>Midlands</td>\n",
       "      <td>Mbilashaba</td>\n",
       "      <td>Toothpaste - Retail</td>\n",
       "      <td>ZWL</td>\n",
       "      <td>Retail</td>\n",
       "      <td>100 ML</td>\n",
       "      <td>6</td>\n",
       "      <td>2021</td>\n",
       "      <td>112.5000</td>\n",
       "    </tr>\n",
       "    <tr>\n",
       "      <th>956776</th>\n",
       "      <td>Zimbabwe</td>\n",
       "      <td>3444</td>\n",
       "      <td>Midlands</td>\n",
       "      <td>Mbilashaba</td>\n",
       "      <td>Laundry soap - Retail</td>\n",
       "      <td>ZWL</td>\n",
       "      <td>Retail</td>\n",
       "      <td>KG</td>\n",
       "      <td>6</td>\n",
       "      <td>2021</td>\n",
       "      <td>114.0000</td>\n",
       "    </tr>\n",
       "    <tr>\n",
       "      <th>956777</th>\n",
       "      <td>Zimbabwe</td>\n",
       "      <td>3444</td>\n",
       "      <td>Midlands</td>\n",
       "      <td>Mbilashaba</td>\n",
       "      <td>Handwash soap - Retail</td>\n",
       "      <td>ZWL</td>\n",
       "      <td>Retail</td>\n",
       "      <td>250 G</td>\n",
       "      <td>6</td>\n",
       "      <td>2021</td>\n",
       "      <td>59.5000</td>\n",
       "    </tr>\n",
       "    <tr>\n",
       "      <th>956778</th>\n",
       "      <td>Zimbabwe</td>\n",
       "      <td>3444</td>\n",
       "      <td>Midlands</td>\n",
       "      <td>Mbilashaba</td>\n",
       "      <td>Fish (kapenta) - Retail</td>\n",
       "      <td>ZWL</td>\n",
       "      <td>Retail</td>\n",
       "      <td>KG</td>\n",
       "      <td>6</td>\n",
       "      <td>2021</td>\n",
       "      <td>1200.0000</td>\n",
       "    </tr>\n",
       "  </tbody>\n",
       "</table>\n",
       "<p>956779 rows × 11 columns</p>\n",
       "</div>"
      ],
      "text/plain": [
       "         country  state_id     state      market                  produce  \\\n",
       "0        Algeria       344     Alger     Algiers            Rice - Retail   \n",
       "1        Algeria       344     Alger     Algiers            Rice - Retail   \n",
       "2        Algeria       344     Alger     Algiers            Rice - Retail   \n",
       "3        Algeria       344     Alger     Algiers            Rice - Retail   \n",
       "4        Algeria       344     Alger     Algiers            Rice - Retail   \n",
       "...          ...       ...       ...         ...                      ...   \n",
       "956774  Zimbabwe      3444  Midlands  Mbilashaba   Beans (sugar) - Retail   \n",
       "956775  Zimbabwe      3444  Midlands  Mbilashaba      Toothpaste - Retail   \n",
       "956776  Zimbabwe      3444  Midlands  Mbilashaba    Laundry soap - Retail   \n",
       "956777  Zimbabwe      3444  Midlands  Mbilashaba   Handwash soap - Retail   \n",
       "956778  Zimbabwe      3444  Midlands  Mbilashaba  Fish (kapenta) - Retail   \n",
       "\n",
       "       currency market_type quantity  month  year      price  \n",
       "0           DZD      Retail       KG      4  2015    90.0000  \n",
       "1           DZD      Retail       KG      5  2015    96.0000  \n",
       "2           DZD      Retail       KG      6  2015    96.0000  \n",
       "3           DZD      Retail       KG      7  2015    83.0000  \n",
       "4           DZD      Retail       KG      8  2015    80.0000  \n",
       "...         ...         ...      ...    ...   ...        ...  \n",
       "956774      ZWL      Retail       KG      6  2021   233.3333  \n",
       "956775      ZWL      Retail   100 ML      6  2021   112.5000  \n",
       "956776      ZWL      Retail       KG      6  2021   114.0000  \n",
       "956777      ZWL      Retail    250 G      6  2021    59.5000  \n",
       "956778      ZWL      Retail       KG      6  2021  1200.0000  \n",
       "\n",
       "[956779 rows x 11 columns]"
      ]
     },
     "execution_count": 11,
     "metadata": {},
     "output_type": "execute_result"
    }
   ],
   "source": [
    "df"
   ]
  },
  {
   "cell_type": "code",
   "execution_count": 12,
   "id": "62161bd6-5858-4480-b17a-3e68231fd326",
   "metadata": {},
   "outputs": [
    {
     "data": {
      "text/plain": [
       "'C:\\\\Users\\\\kuffo\\\\Desktop\\\\PYTHON'"
      ]
     },
     "execution_count": 12,
     "metadata": {},
     "output_type": "execute_result"
    }
   ],
   "source": [
    "pwd"
   ]
  },
  {
   "cell_type": "code",
   "execution_count": 13,
   "id": "981c8aad-446c-442c-ad5e-60873bf007a0",
   "metadata": {},
   "outputs": [
    {
     "data": {
      "text/plain": [
       "0          Algeria\n",
       "1          Algeria\n",
       "2          Algeria\n",
       "3          Algeria\n",
       "4          Algeria\n",
       "            ...   \n",
       "956774    Zimbabwe\n",
       "956775    Zimbabwe\n",
       "956776    Zimbabwe\n",
       "956777    Zimbabwe\n",
       "956778    Zimbabwe\n",
       "Name: country, Length: 956779, dtype: object"
      ]
     },
     "execution_count": 13,
     "metadata": {},
     "output_type": "execute_result"
    }
   ],
   "source": [
    "df['country']"
   ]
  },
  {
   "cell_type": "code",
   "execution_count": 14,
   "id": "33ed7feb-ce0a-45c7-9ae0-bc54ded41253",
   "metadata": {},
   "outputs": [
    {
     "data": {
      "text/plain": [
       "(956779, 11)"
      ]
     },
     "execution_count": 14,
     "metadata": {},
     "output_type": "execute_result"
    }
   ],
   "source": [
    "df.shape"
   ]
  },
  {
   "cell_type": "code",
   "execution_count": 15,
   "id": "719f255f-e230-49f2-ae35-d8e5d7dd3d9e",
   "metadata": {},
   "outputs": [
    {
     "data": {
      "text/html": [
       "<div>\n",
       "<style scoped>\n",
       "    .dataframe tbody tr th:only-of-type {\n",
       "        vertical-align: middle;\n",
       "    }\n",
       "\n",
       "    .dataframe tbody tr th {\n",
       "        vertical-align: top;\n",
       "    }\n",
       "\n",
       "    .dataframe thead th {\n",
       "        text-align: right;\n",
       "    }\n",
       "</style>\n",
       "<table border=\"1\" class=\"dataframe\">\n",
       "  <thead>\n",
       "    <tr style=\"text-align: right;\">\n",
       "      <th></th>\n",
       "      <th>state_id</th>\n",
       "      <th>month</th>\n",
       "      <th>year</th>\n",
       "      <th>price</th>\n",
       "    </tr>\n",
       "  </thead>\n",
       "  <tbody>\n",
       "    <tr>\n",
       "      <th>count</th>\n",
       "      <td>956779.000000</td>\n",
       "      <td>956779.000000</td>\n",
       "      <td>956779.000000</td>\n",
       "      <td>9.567790e+05</td>\n",
       "    </tr>\n",
       "    <tr>\n",
       "      <th>mean</th>\n",
       "      <td>22287.911831</td>\n",
       "      <td>6.381471</td>\n",
       "      <td>2015.704015</td>\n",
       "      <td>4.128833e+03</td>\n",
       "    </tr>\n",
       "    <tr>\n",
       "      <th>std</th>\n",
       "      <td>98565.608270</td>\n",
       "      <td>3.418025</td>\n",
       "      <td>4.603829</td>\n",
       "      <td>1.381840e+05</td>\n",
       "    </tr>\n",
       "    <tr>\n",
       "      <th>min</th>\n",
       "      <td>0.000000</td>\n",
       "      <td>1.000000</td>\n",
       "      <td>1990.000000</td>\n",
       "      <td>0.000000e+00</td>\n",
       "    </tr>\n",
       "    <tr>\n",
       "      <th>25%</th>\n",
       "      <td>1836.000000</td>\n",
       "      <td>3.000000</td>\n",
       "      <td>2013.000000</td>\n",
       "      <td>6.500000e+01</td>\n",
       "    </tr>\n",
       "    <tr>\n",
       "      <th>50%</th>\n",
       "      <td>2209.000000</td>\n",
       "      <td>6.000000</td>\n",
       "      <td>2017.000000</td>\n",
       "      <td>2.505714e+02</td>\n",
       "    </tr>\n",
       "    <tr>\n",
       "      <th>75%</th>\n",
       "      <td>21971.000000</td>\n",
       "      <td>9.000000</td>\n",
       "      <td>2020.000000</td>\n",
       "      <td>7.221005e+02</td>\n",
       "    </tr>\n",
       "    <tr>\n",
       "      <th>max</th>\n",
       "      <td>900003.000000</td>\n",
       "      <td>12.000000</td>\n",
       "      <td>2021.000000</td>\n",
       "      <td>1.725000e+07</td>\n",
       "    </tr>\n",
       "  </tbody>\n",
       "</table>\n",
       "</div>"
      ],
      "text/plain": [
       "            state_id          month           year         price\n",
       "count  956779.000000  956779.000000  956779.000000  9.567790e+05\n",
       "mean    22287.911831       6.381471    2015.704015  4.128833e+03\n",
       "std     98565.608270       3.418025       4.603829  1.381840e+05\n",
       "min         0.000000       1.000000    1990.000000  0.000000e+00\n",
       "25%      1836.000000       3.000000    2013.000000  6.500000e+01\n",
       "50%      2209.000000       6.000000    2017.000000  2.505714e+02\n",
       "75%     21971.000000       9.000000    2020.000000  7.221005e+02\n",
       "max    900003.000000      12.000000    2021.000000  1.725000e+07"
      ]
     },
     "execution_count": 15,
     "metadata": {},
     "output_type": "execute_result"
    }
   ],
   "source": [
    "df.describe()"
   ]
  },
  {
   "cell_type": "code",
   "execution_count": 16,
   "id": "9e07c302-1050-4c1e-aabd-ea473dcbfe8c",
   "metadata": {},
   "outputs": [
    {
     "name": "stdout",
     "output_type": "stream",
     "text": [
      "<class 'pandas.core.frame.DataFrame'>\n",
      "RangeIndex: 956779 entries, 0 to 956778\n",
      "Data columns (total 11 columns):\n",
      " #   Column       Non-Null Count   Dtype  \n",
      "---  ------       --------------   -----  \n",
      " 0   country      956779 non-null  object \n",
      " 1   state_id     956779 non-null  int64  \n",
      " 2   state        830101 non-null  object \n",
      " 3   market       956779 non-null  object \n",
      " 4   produce      956779 non-null  object \n",
      " 5   currency     956779 non-null  object \n",
      " 6   market_type  956779 non-null  object \n",
      " 7   quantity     956779 non-null  object \n",
      " 8   month        956779 non-null  int64  \n",
      " 9   year         956779 non-null  int64  \n",
      " 10  price        956779 non-null  float64\n",
      "dtypes: float64(1), int64(3), object(7)\n",
      "memory usage: 80.3+ MB\n"
     ]
    }
   ],
   "source": [
    "df.info()"
   ]
  },
  {
   "cell_type": "code",
   "execution_count": 17,
   "id": "a86abeff-d841-44bd-929a-0e3a473b774f",
   "metadata": {},
   "outputs": [
    {
     "data": {
      "text/plain": [
       "4128.833402575833"
      ]
     },
     "execution_count": 17,
     "metadata": {},
     "output_type": "execute_result"
    }
   ],
   "source": [
    "df['price'].mean()"
   ]
  },
  {
   "cell_type": "code",
   "execution_count": 18,
   "id": "aa76b3bc-10e4-460d-90e4-986c169dc735",
   "metadata": {},
   "outputs": [
    {
     "data": {
      "text/plain": [
       "250.5714"
      ]
     },
     "execution_count": 18,
     "metadata": {},
     "output_type": "execute_result"
    }
   ],
   "source": [
    "df['price'].median()"
   ]
  },
  {
   "cell_type": "code",
   "execution_count": 19,
   "id": "38e8fe4f-579b-4750-9182-a9ddc5edda93",
   "metadata": {},
   "outputs": [
    {
     "data": {
      "image/png": "[encoded data removed]",
      "text/plain": [
       "<Figure size 432x432 with 1 Axes>"
      ]
     },
     "metadata": {
      "needs_background": "light"
     },
     "output_type": "display_data"
    }
   ],
   "source": [
    "df.plot (kind = 'scatter',x='price',y='year',figsize=(6,6))\n",
    "plt.show()"
   ]
  },
  {
   "cell_type": "code",
   "execution_count": 20,
   "id": "8da56b08-cc64-4c5a-9729-1637fd033b04",
   "metadata": {},
   "outputs": [
    {
     "data": {
      "text/plain": [
       "Rwanda                      137746\n",
       "Mali                         73843\n",
       "Burundi                      60921\n",
       "Gambia                       56971\n",
       "Niger                        54974\n",
       "Nigeria                      50285\n",
       "Zambia                       42793\n",
       "Mozambique                   42278\n",
       "Libya                        41207\n",
       "Benin                        39530\n",
       "Senegal                      33563\n",
       "Ghana                        25414\n",
       "Ethiopia                     24627\n",
       "Malawi                       22682\n",
       "Cameroon                     22476\n",
       "Guinea-Bissau                19796\n",
       "Chad                         18896\n",
       "Somalia                      18444\n",
       "South Sudan                  17746\n",
       "Central African Republic     12720\n",
       "Liberia                      12302\n",
       "Guinea                       11810\n",
       "Sierra Leone                 11645\n",
       "Zimbabwe                     10957\n",
       "Mauritania                   10871\n",
       "Sudan                         9890\n",
       "Lesotho                       9364\n",
       "Madagascar                    9193\n",
       "Kenya                         8884\n",
       "Uganda                        7781\n",
       "Namibia                       7163\n",
       "Djibouti                      6006\n",
       "Togo                          5615\n",
       "Congo                         5257\n",
       "Swaziland                     4247\n",
       "Egypt                         2304\n",
       "Cape Verde                    2135\n",
       "Algeria                       1793\n",
       "Angola                        1272\n",
       "South Africa                   774\n",
       "Gabon                          504\n",
       "Eritrea                        100\n",
       "Name: country, dtype: int64"
      ]
     },
     "execution_count": 20,
     "metadata": {},
     "output_type": "execute_result"
    }
   ],
   "source": [
    "country_count = df.country.value_counts()\n",
    "country_count"
   ]
  },
  {
   "cell_type": "code",
   "execution_count": 21,
   "id": "77735228-44a5-452a-8289-2608a0a359d0",
   "metadata": {},
   "outputs": [
    {
     "data": {
      "text/plain": [
       "<AxesSubplot:>"
      ]
     },
     "execution_count": 21,
     "metadata": {},
     "output_type": "execute_result"
    },
    {
     "data": {
      "image/png": "[encoded data removed]",
      "text/plain": [
       "<Figure size 432x432 with 1 Axes>"
      ]
     },
     "metadata": {
      "needs_background": "light"
     },
     "output_type": "display_data"
    }
   ],
   "source": [
    "country_count.plot(kind='bar',figsize=(6,6))"
   ]
  },
  {
   "cell_type": "code",
   "execution_count": 22,
   "id": "acaaa637-3859-4c31-abfb-eecda7593b78",
   "metadata": {},
   "outputs": [],
   "source": [
    "country_df = df.groupby('market_type')"
   ]
  },
  {
   "cell_type": "code",
   "execution_count": 23,
   "id": "4c84e9f2-d451-4a92-861c-3a58967f7e64",
   "metadata": {},
   "outputs": [
    {
     "data": {
      "text/html": [
       "<div>\n",
       "<style scoped>\n",
       "    .dataframe tbody tr th:only-of-type {\n",
       "        vertical-align: middle;\n",
       "    }\n",
       "\n",
       "    .dataframe tbody tr th {\n",
       "        vertical-align: top;\n",
       "    }\n",
       "\n",
       "    .dataframe thead th {\n",
       "        text-align: right;\n",
       "    }\n",
       "</style>\n",
       "<table border=\"1\" class=\"dataframe\">\n",
       "  <thead>\n",
       "    <tr style=\"text-align: right;\">\n",
       "      <th></th>\n",
       "      <th>country</th>\n",
       "      <th>state_id</th>\n",
       "      <th>state</th>\n",
       "      <th>market</th>\n",
       "      <th>produce</th>\n",
       "      <th>currency</th>\n",
       "      <th>quantity</th>\n",
       "      <th>month</th>\n",
       "      <th>year</th>\n",
       "      <th>price</th>\n",
       "    </tr>\n",
       "    <tr>\n",
       "      <th>market_type</th>\n",
       "      <th></th>\n",
       "      <th></th>\n",
       "      <th></th>\n",
       "      <th></th>\n",
       "      <th></th>\n",
       "      <th></th>\n",
       "      <th></th>\n",
       "      <th></th>\n",
       "      <th></th>\n",
       "      <th></th>\n",
       "    </tr>\n",
       "  </thead>\n",
       "  <tbody>\n",
       "    <tr>\n",
       "      <th>Producer</th>\n",
       "      <td>Madagascar</td>\n",
       "      <td>1881</td>\n",
       "      <td>Atsinanana</td>\n",
       "      <td>Atsinanana (Region)</td>\n",
       "      <td>Rice (paddy) - Producer</td>\n",
       "      <td>MGA</td>\n",
       "      <td>KG</td>\n",
       "      <td>4</td>\n",
       "      <td>2011</td>\n",
       "      <td>950.0</td>\n",
       "    </tr>\n",
       "    <tr>\n",
       "      <th>Retail</th>\n",
       "      <td>Algeria</td>\n",
       "      <td>344</td>\n",
       "      <td>Alger</td>\n",
       "      <td>Algiers</td>\n",
       "      <td>Rice - Retail</td>\n",
       "      <td>DZD</td>\n",
       "      <td>KG</td>\n",
       "      <td>4</td>\n",
       "      <td>2015</td>\n",
       "      <td>90.0</td>\n",
       "    </tr>\n",
       "    <tr>\n",
       "      <th>Wholesale</th>\n",
       "      <td>Benin</td>\n",
       "      <td>609</td>\n",
       "      <td>Alibori</td>\n",
       "      <td>Malanville (CBM)</td>\n",
       "      <td>Maize - Wholesale</td>\n",
       "      <td>XOF</td>\n",
       "      <td>KG</td>\n",
       "      <td>1</td>\n",
       "      <td>2002</td>\n",
       "      <td>145.0</td>\n",
       "    </tr>\n",
       "  </tbody>\n",
       "</table>\n",
       "</div>"
      ],
      "text/plain": [
       "                country  state_id       state               market  \\\n",
       "market_type                                                          \n",
       "Producer     Madagascar      1881  Atsinanana  Atsinanana (Region)   \n",
       "Retail          Algeria       344       Alger              Algiers   \n",
       "Wholesale         Benin       609     Alibori     Malanville (CBM)   \n",
       "\n",
       "                             produce currency quantity  month  year  price  \n",
       "market_type                                                                 \n",
       "Producer     Rice (paddy) - Producer      MGA       KG      4  2011  950.0  \n",
       "Retail                 Rice - Retail      DZD       KG      4  2015   90.0  \n",
       "Wholesale          Maize - Wholesale      XOF       KG      1  2002  145.0  "
      ]
     },
     "execution_count": 23,
     "metadata": {},
     "output_type": "execute_result"
    }
   ],
   "source": [
    "country_df.first()"
   ]
  },
  {
   "cell_type": "code",
   "execution_count": 29,
   "id": "3e12ad4b-c166-4c9b-b6a6-63cce2bed6e1",
   "metadata": {},
   "outputs": [
    {
     "data": {
      "text/plain": [
       "<AxesSubplot:ylabel='market_type'>"
      ]
     },
     "execution_count": 29,
     "metadata": {},
     "output_type": "execute_result"
    },
    {
     "data": {
      "image/png": "[encoded data removed]",
      "text/plain": [
       "<Figure size 432x432 with 1 Axes>"
      ]
     },
     "metadata": {},
     "output_type": "display_data"
    }
   ],
   "source": [
    "plt.figure(figsize=(6,6))\n",
    "df['market_type'].value_counts().plot(kind='pie',autopct='%0.1f%%')"
   ]
  },
  {
   "cell_type": "code",
   "execution_count": 30,
   "id": "0840e487-2c2e-4cf9-af4e-0fe8853f3936",
   "metadata": {},
   "outputs": [],
   "source": [
    "country_df = df.groupby('price')"
   ]
  },
  {
   "cell_type": "code",
   "execution_count": 31,
   "id": "5a64d010-fa73-4784-9dcb-4a0f3b0df4d2",
   "metadata": {},
   "outputs": [
    {
     "data": {
      "text/html": [
       "<div>\n",
       "<style scoped>\n",
       "    .dataframe tbody tr th:only-of-type {\n",
       "        vertical-align: middle;\n",
       "    }\n",
       "\n",
       "    .dataframe tbody tr th {\n",
       "        vertical-align: top;\n",
       "    }\n",
       "\n",
       "    .dataframe thead th {\n",
       "        text-align: right;\n",
       "    }\n",
       "</style>\n",
       "<table border=\"1\" class=\"dataframe\">\n",
       "  <thead>\n",
       "    <tr style=\"text-align: right;\">\n",
       "      <th></th>\n",
       "      <th>country</th>\n",
       "      <th>state_id</th>\n",
       "      <th>state</th>\n",
       "      <th>market</th>\n",
       "      <th>produce</th>\n",
       "      <th>currency</th>\n",
       "      <th>market_type</th>\n",
       "      <th>quantity</th>\n",
       "      <th>month</th>\n",
       "      <th>year</th>\n",
       "    </tr>\n",
       "    <tr>\n",
       "      <th>price</th>\n",
       "      <th></th>\n",
       "      <th></th>\n",
       "      <th></th>\n",
       "      <th></th>\n",
       "      <th></th>\n",
       "      <th></th>\n",
       "      <th></th>\n",
       "      <th></th>\n",
       "      <th></th>\n",
       "      <th></th>\n",
       "    </tr>\n",
       "  </thead>\n",
       "  <tbody>\n",
       "    <tr>\n",
       "      <th>0.000000e+00</th>\n",
       "      <td>Gambia</td>\n",
       "      <td>1285</td>\n",
       "      <td>Central River</td>\n",
       "      <td>Kaur Wharf Town</td>\n",
       "      <td>Fonio - Retail</td>\n",
       "      <td>GMD</td>\n",
       "      <td>Retail</td>\n",
       "      <td>KG</td>\n",
       "      <td>2</td>\n",
       "      <td>2017</td>\n",
       "    </tr>\n",
       "    <tr>\n",
       "      <th>1.000000e-02</th>\n",
       "      <td>Libya</td>\n",
       "      <td>1835</td>\n",
       "      <td>None</td>\n",
       "      <td>Alkufra</td>\n",
       "      <td>Laundry soap - Retail</td>\n",
       "      <td>LYD</td>\n",
       "      <td>Retail</td>\n",
       "      <td>KG</td>\n",
       "      <td>5</td>\n",
       "      <td>2019</td>\n",
       "    </tr>\n",
       "    <tr>\n",
       "      <th>1.250000e-02</th>\n",
       "      <td>Zambia</td>\n",
       "      <td>3431</td>\n",
       "      <td>North-Western</td>\n",
       "      <td>Chavuma</td>\n",
       "      <td>Groundnuts (shelled) - Retail</td>\n",
       "      <td>ZMW</td>\n",
       "      <td>Retail</td>\n",
       "      <td>KG</td>\n",
       "      <td>11</td>\n",
       "      <td>2012</td>\n",
       "    </tr>\n",
       "    <tr>\n",
       "      <th>2.000000e-02</th>\n",
       "      <td>Libya</td>\n",
       "      <td>0</td>\n",
       "      <td>None</td>\n",
       "      <td>Ghat</td>\n",
       "      <td>Laundry soap - Retail</td>\n",
       "      <td>LYD</td>\n",
       "      <td>Retail</td>\n",
       "      <td>KG</td>\n",
       "      <td>5</td>\n",
       "      <td>2019</td>\n",
       "    </tr>\n",
       "    <tr>\n",
       "      <th>1.300000e-01</th>\n",
       "      <td>Zimbabwe</td>\n",
       "      <td>3443</td>\n",
       "      <td>Matabeleland South</td>\n",
       "      <td>Plumtree town</td>\n",
       "      <td>Millet - Retail</td>\n",
       "      <td>USD</td>\n",
       "      <td>Retail</td>\n",
       "      <td>KG</td>\n",
       "      <td>2</td>\n",
       "      <td>2018</td>\n",
       "    </tr>\n",
       "    <tr>\n",
       "      <th>...</th>\n",
       "      <td>...</td>\n",
       "      <td>...</td>\n",
       "      <td>...</td>\n",
       "      <td>...</td>\n",
       "      <td>...</td>\n",
       "      <td>...</td>\n",
       "      <td>...</td>\n",
       "      <td>...</td>\n",
       "      <td>...</td>\n",
       "      <td>...</td>\n",
       "    </tr>\n",
       "    <tr>\n",
       "      <th>1.600000e+07</th>\n",
       "      <td>Somalia</td>\n",
       "      <td>2700</td>\n",
       "      <td>Mudug</td>\n",
       "      <td>Gaalkacyo</td>\n",
       "      <td>Meat (camel) - Retail</td>\n",
       "      <td>SOS</td>\n",
       "      <td>Retail</td>\n",
       "      <td>Unit</td>\n",
       "      <td>11</td>\n",
       "      <td>2015</td>\n",
       "    </tr>\n",
       "    <tr>\n",
       "      <th>1.625000e+07</th>\n",
       "      <td>Somalia</td>\n",
       "      <td>2700</td>\n",
       "      <td>Mudug</td>\n",
       "      <td>Gaalkacyo</td>\n",
       "      <td>Meat (camel) - Retail</td>\n",
       "      <td>SOS</td>\n",
       "      <td>Retail</td>\n",
       "      <td>Unit</td>\n",
       "      <td>11</td>\n",
       "      <td>2016</td>\n",
       "    </tr>\n",
       "    <tr>\n",
       "      <th>1.700000e+07</th>\n",
       "      <td>Somalia</td>\n",
       "      <td>2700</td>\n",
       "      <td>Mudug</td>\n",
       "      <td>Gaalkacyo</td>\n",
       "      <td>Meat (camel) - Retail</td>\n",
       "      <td>SOS</td>\n",
       "      <td>Retail</td>\n",
       "      <td>Unit</td>\n",
       "      <td>1</td>\n",
       "      <td>2016</td>\n",
       "    </tr>\n",
       "    <tr>\n",
       "      <th>1.720000e+07</th>\n",
       "      <td>Somalia</td>\n",
       "      <td>2700</td>\n",
       "      <td>Mudug</td>\n",
       "      <td>Gaalkacyo</td>\n",
       "      <td>Meat (camel) - Retail</td>\n",
       "      <td>SOS</td>\n",
       "      <td>Retail</td>\n",
       "      <td>Unit</td>\n",
       "      <td>8</td>\n",
       "      <td>2016</td>\n",
       "    </tr>\n",
       "    <tr>\n",
       "      <th>1.725000e+07</th>\n",
       "      <td>Somalia</td>\n",
       "      <td>2700</td>\n",
       "      <td>Mudug</td>\n",
       "      <td>Gaalkacyo</td>\n",
       "      <td>Meat (camel) - Retail</td>\n",
       "      <td>SOS</td>\n",
       "      <td>Retail</td>\n",
       "      <td>Unit</td>\n",
       "      <td>12</td>\n",
       "      <td>2015</td>\n",
       "    </tr>\n",
       "  </tbody>\n",
       "</table>\n",
       "<p>108546 rows × 10 columns</p>\n",
       "</div>"
      ],
      "text/plain": [
       "               country  state_id               state           market  \\\n",
       "price                                                                   \n",
       "0.000000e+00    Gambia      1285       Central River  Kaur Wharf Town   \n",
       "1.000000e-02     Libya      1835                None          Alkufra   \n",
       "1.250000e-02    Zambia      3431       North-Western          Chavuma   \n",
       "2.000000e-02     Libya         0                None             Ghat   \n",
       "1.300000e-01  Zimbabwe      3443  Matabeleland South    Plumtree town   \n",
       "...                ...       ...                 ...              ...   \n",
       "1.600000e+07   Somalia      2700               Mudug        Gaalkacyo   \n",
       "1.625000e+07   Somalia      2700               Mudug        Gaalkacyo   \n",
       "1.700000e+07   Somalia      2700               Mudug        Gaalkacyo   \n",
       "1.720000e+07   Somalia      2700               Mudug        Gaalkacyo   \n",
       "1.725000e+07   Somalia      2700               Mudug        Gaalkacyo   \n",
       "\n",
       "                                    produce currency market_type quantity  \\\n",
       "price                                                                       \n",
       "0.000000e+00                 Fonio - Retail      GMD      Retail       KG   \n",
       "1.000000e-02          Laundry soap - Retail      LYD      Retail       KG   \n",
       "1.250000e-02  Groundnuts (shelled) - Retail      ZMW      Retail       KG   \n",
       "2.000000e-02          Laundry soap - Retail      LYD      Retail       KG   \n",
       "1.300000e-01                Millet - Retail      USD      Retail       KG   \n",
       "...                                     ...      ...         ...      ...   \n",
       "1.600000e+07          Meat (camel) - Retail      SOS      Retail     Unit   \n",
       "1.625000e+07          Meat (camel) - Retail      SOS      Retail     Unit   \n",
       "1.700000e+07          Meat (camel) - Retail      SOS      Retail     Unit   \n",
       "1.720000e+07          Meat (camel) - Retail      SOS      Retail     Unit   \n",
       "1.725000e+07          Meat (camel) - Retail      SOS      Retail     Unit   \n",
       "\n",
       "              month  year  \n",
       "price                      \n",
       "0.000000e+00      2  2017  \n",
       "1.000000e-02      5  2019  \n",
       "1.250000e-02     11  2012  \n",
       "2.000000e-02      5  2019  \n",
       "1.300000e-01      2  2018  \n",
       "...             ...   ...  \n",
       "1.600000e+07     11  2015  \n",
       "1.625000e+07     11  2016  \n",
       "1.700000e+07      1  2016  \n",
       "1.720000e+07      8  2016  \n",
       "1.725000e+07     12  2015  \n",
       "\n",
       "[108546 rows x 10 columns]"
      ]
     },
     "execution_count": 31,
     "metadata": {},
     "output_type": "execute_result"
    }
   ],
   "source": [
    "country_df.first()"
   ]
  },
  {
   "cell_type": "code",
   "execution_count": 34,
   "id": "556907f9-5f2a-43a7-91fb-04348e76c8f7",
   "metadata": {},
   "outputs": [
    {
     "name": "stdout",
     "output_type": "stream",
     "text": [
      "country               Algeria\n",
      "state_id                  344\n",
      "state                   Alger\n",
      "market                Algiers\n",
      "produce        Bread - Retail\n",
      "currency                  DZD\n",
      "market_type            Retail\n",
      "quantity                 Unit\n",
      "month                       9\n",
      "year                     2016\n",
      "price                    10.0\n",
      "Name: 30, dtype: object\n"
     ]
    }
   ],
   "source": [
    "print(df.loc[30]) "
   ]
  },
  {
   "cell_type": "code",
   "execution_count": 35,
   "id": "27174e48-8e3e-4963-ab96-76e2dccaa667",
   "metadata": {},
   "outputs": [
    {
     "data": {
      "text/html": [
       "<div>\n",
       "<style scoped>\n",
       "    .dataframe tbody tr th:only-of-type {\n",
       "        vertical-align: middle;\n",
       "    }\n",
       "\n",
       "    .dataframe tbody tr th {\n",
       "        vertical-align: top;\n",
       "    }\n",
       "\n",
       "    .dataframe thead th {\n",
       "        text-align: right;\n",
       "    }\n",
       "</style>\n",
       "<table border=\"1\" class=\"dataframe\">\n",
       "  <thead>\n",
       "    <tr style=\"text-align: right;\">\n",
       "      <th></th>\n",
       "      <th>country</th>\n",
       "      <th>state_id</th>\n",
       "      <th>state</th>\n",
       "      <th>market</th>\n",
       "      <th>produce</th>\n",
       "      <th>currency</th>\n",
       "      <th>market_type</th>\n",
       "      <th>quantity</th>\n",
       "      <th>month</th>\n",
       "      <th>year</th>\n",
       "      <th>price</th>\n",
       "    </tr>\n",
       "  </thead>\n",
       "  <tbody>\n",
       "    <tr>\n",
       "      <th>605293</th>\n",
       "      <td>Nigeria</td>\n",
       "      <td>2211</td>\n",
       "      <td>Adamawa</td>\n",
       "      <td>Mubi</td>\n",
       "      <td>Bread - Retail</td>\n",
       "      <td>NGN</td>\n",
       "      <td>Retail</td>\n",
       "      <td>Unit</td>\n",
       "      <td>1</td>\n",
       "      <td>2015</td>\n",
       "      <td>140.0</td>\n",
       "    </tr>\n",
       "    <tr>\n",
       "      <th>605294</th>\n",
       "      <td>Nigeria</td>\n",
       "      <td>2211</td>\n",
       "      <td>Adamawa</td>\n",
       "      <td>Mubi</td>\n",
       "      <td>Bread - Retail</td>\n",
       "      <td>NGN</td>\n",
       "      <td>Retail</td>\n",
       "      <td>Unit</td>\n",
       "      <td>2</td>\n",
       "      <td>2015</td>\n",
       "      <td>140.0</td>\n",
       "    </tr>\n",
       "    <tr>\n",
       "      <th>605295</th>\n",
       "      <td>Nigeria</td>\n",
       "      <td>2211</td>\n",
       "      <td>Adamawa</td>\n",
       "      <td>Mubi</td>\n",
       "      <td>Bread - Retail</td>\n",
       "      <td>NGN</td>\n",
       "      <td>Retail</td>\n",
       "      <td>Unit</td>\n",
       "      <td>3</td>\n",
       "      <td>2015</td>\n",
       "      <td>140.0</td>\n",
       "    </tr>\n",
       "    <tr>\n",
       "      <th>605296</th>\n",
       "      <td>Nigeria</td>\n",
       "      <td>2211</td>\n",
       "      <td>Adamawa</td>\n",
       "      <td>Mubi</td>\n",
       "      <td>Bread - Retail</td>\n",
       "      <td>NGN</td>\n",
       "      <td>Retail</td>\n",
       "      <td>Unit</td>\n",
       "      <td>4</td>\n",
       "      <td>2015</td>\n",
       "      <td>140.0</td>\n",
       "    </tr>\n",
       "    <tr>\n",
       "      <th>605297</th>\n",
       "      <td>Nigeria</td>\n",
       "      <td>2211</td>\n",
       "      <td>Adamawa</td>\n",
       "      <td>Mubi</td>\n",
       "      <td>Bread - Retail</td>\n",
       "      <td>NGN</td>\n",
       "      <td>Retail</td>\n",
       "      <td>Unit</td>\n",
       "      <td>5</td>\n",
       "      <td>2015</td>\n",
       "      <td>140.0</td>\n",
       "    </tr>\n",
       "    <tr>\n",
       "      <th>...</th>\n",
       "      <td>...</td>\n",
       "      <td>...</td>\n",
       "      <td>...</td>\n",
       "      <td>...</td>\n",
       "      <td>...</td>\n",
       "      <td>...</td>\n",
       "      <td>...</td>\n",
       "      <td>...</td>\n",
       "      <td>...</td>\n",
       "      <td>...</td>\n",
       "      <td>...</td>\n",
       "    </tr>\n",
       "    <tr>\n",
       "      <th>655573</th>\n",
       "      <td>Nigeria</td>\n",
       "      <td>65710</td>\n",
       "      <td>Zamfara</td>\n",
       "      <td>Kaura Namoda</td>\n",
       "      <td>Rice (milled, local) - Wholesale</td>\n",
       "      <td>NGN</td>\n",
       "      <td>Wholesale</td>\n",
       "      <td>50 KG</td>\n",
       "      <td>12</td>\n",
       "      <td>2019</td>\n",
       "      <td>24575.0</td>\n",
       "    </tr>\n",
       "    <tr>\n",
       "      <th>655574</th>\n",
       "      <td>Nigeria</td>\n",
       "      <td>65710</td>\n",
       "      <td>Zamfara</td>\n",
       "      <td>Kaura Namoda</td>\n",
       "      <td>Rice (milled, local) - Wholesale</td>\n",
       "      <td>NGN</td>\n",
       "      <td>Wholesale</td>\n",
       "      <td>50 KG</td>\n",
       "      <td>1</td>\n",
       "      <td>2020</td>\n",
       "      <td>27485.0</td>\n",
       "    </tr>\n",
       "    <tr>\n",
       "      <th>655575</th>\n",
       "      <td>Nigeria</td>\n",
       "      <td>65710</td>\n",
       "      <td>Zamfara</td>\n",
       "      <td>Kaura Namoda</td>\n",
       "      <td>Rice (milled, local) - Wholesale</td>\n",
       "      <td>NGN</td>\n",
       "      <td>Wholesale</td>\n",
       "      <td>50 KG</td>\n",
       "      <td>2</td>\n",
       "      <td>2020</td>\n",
       "      <td>27700.0</td>\n",
       "    </tr>\n",
       "    <tr>\n",
       "      <th>655576</th>\n",
       "      <td>Nigeria</td>\n",
       "      <td>65710</td>\n",
       "      <td>Zamfara</td>\n",
       "      <td>Kaura Namoda</td>\n",
       "      <td>Rice (milled, local) - Wholesale</td>\n",
       "      <td>NGN</td>\n",
       "      <td>Wholesale</td>\n",
       "      <td>50 KG</td>\n",
       "      <td>4</td>\n",
       "      <td>2020</td>\n",
       "      <td>33060.0</td>\n",
       "    </tr>\n",
       "    <tr>\n",
       "      <th>655577</th>\n",
       "      <td>Nigeria</td>\n",
       "      <td>65710</td>\n",
       "      <td>Zamfara</td>\n",
       "      <td>Kaura Namoda</td>\n",
       "      <td>Rice (milled, local) - Wholesale</td>\n",
       "      <td>NGN</td>\n",
       "      <td>Wholesale</td>\n",
       "      <td>50 KG</td>\n",
       "      <td>5</td>\n",
       "      <td>2020</td>\n",
       "      <td>32275.0</td>\n",
       "    </tr>\n",
       "  </tbody>\n",
       "</table>\n",
       "<p>50285 rows × 11 columns</p>\n",
       "</div>"
      ],
      "text/plain": [
       "        country  state_id    state        market  \\\n",
       "605293  Nigeria      2211  Adamawa          Mubi   \n",
       "605294  Nigeria      2211  Adamawa          Mubi   \n",
       "605295  Nigeria      2211  Adamawa          Mubi   \n",
       "605296  Nigeria      2211  Adamawa          Mubi   \n",
       "605297  Nigeria      2211  Adamawa          Mubi   \n",
       "...         ...       ...      ...           ...   \n",
       "655573  Nigeria     65710  Zamfara  Kaura Namoda   \n",
       "655574  Nigeria     65710  Zamfara  Kaura Namoda   \n",
       "655575  Nigeria     65710  Zamfara  Kaura Namoda   \n",
       "655576  Nigeria     65710  Zamfara  Kaura Namoda   \n",
       "655577  Nigeria     65710  Zamfara  Kaura Namoda   \n",
       "\n",
       "                                 produce currency market_type quantity  month  \\\n",
       "605293                    Bread - Retail      NGN      Retail     Unit      1   \n",
       "605294                    Bread - Retail      NGN      Retail     Unit      2   \n",
       "605295                    Bread - Retail      NGN      Retail     Unit      3   \n",
       "605296                    Bread - Retail      NGN      Retail     Unit      4   \n",
       "605297                    Bread - Retail      NGN      Retail     Unit      5   \n",
       "...                                  ...      ...         ...      ...    ...   \n",
       "655573  Rice (milled, local) - Wholesale      NGN   Wholesale    50 KG     12   \n",
       "655574  Rice (milled, local) - Wholesale      NGN   Wholesale    50 KG      1   \n",
       "655575  Rice (milled, local) - Wholesale      NGN   Wholesale    50 KG      2   \n",
       "655576  Rice (milled, local) - Wholesale      NGN   Wholesale    50 KG      4   \n",
       "655577  Rice (milled, local) - Wholesale      NGN   Wholesale    50 KG      5   \n",
       "\n",
       "        year    price  \n",
       "605293  2015    140.0  \n",
       "605294  2015    140.0  \n",
       "605295  2015    140.0  \n",
       "605296  2015    140.0  \n",
       "605297  2015    140.0  \n",
       "...      ...      ...  \n",
       "655573  2019  24575.0  \n",
       "655574  2020  27485.0  \n",
       "655575  2020  27700.0  \n",
       "655576  2020  33060.0  \n",
       "655577  2020  32275.0  \n",
       "\n",
       "[50285 rows x 11 columns]"
      ]
     },
     "execution_count": 35,
     "metadata": {},
     "output_type": "execute_result"
    }
   ],
   "source": [
    "df.loc[df[\"country\"] == \"Nigeria\"]"
   ]
  },
  {
   "cell_type": "markdown",
   "id": "41d2bced-c5bc-4298-84fc-abecc1c04734",
   "metadata": {},
   "source": [
    "# Table Query"
   ]
  },
  {
   "cell_type": "markdown",
   "id": "82f2c520-5c82-40d8-9de4-78dbf62523a5",
   "metadata": {},
   "source": [
    "### for the northern and southern part of Africa "
   ]
  },
  {
   "cell_type": "code",
   "execution_count": 36,
   "id": "7cf8531a-8d2d-428a-94ec-f8df8ab8db5c",
   "metadata": {},
   "outputs": [],
   "source": [
    "pivot_table = pd.pivot_table(df,index=['country','year','month','market'], values = ['price'], aggfunc='mean')"
   ]
  },
  {
   "cell_type": "code",
   "execution_count": 37,
   "id": "1b4547a5-28d0-4a20-a30b-321fbc027375",
   "metadata": {},
   "outputs": [],
   "source": [
    "northern_region = pivot_table.query(\"country == ['Algeria','Egypt','Libya','Morocco','Sudan','Tunisia','Western-Sahara']\")\n",
    "southern_region = pivot_table.query(\"country == ['Angola','Botswana','Lesotho','Mozambique','Namibia','South-Africa','Swaziland','Zambia','Zimbabwe']\")\n",
    "                        "
   ]
  },
  {
   "cell_type": "code",
   "execution_count": 38,
   "id": "74b384dd-d1a9-4ce3-854f-bdf23633014a",
   "metadata": {},
   "outputs": [],
   "source": [
    "northernRegionResetIndex = northern_region.reset_index()\n",
    "southernRegionResetIndex = southern_region.reset_index()"
   ]
  },
  {
   "cell_type": "markdown",
   "id": "0bf158e8-c13a-41c9-a0a2-d854d3fd3f7f",
   "metadata": {},
   "source": [
    "### Prices Of Commodities In Northern Region"
   ]
  },
  {
   "cell_type": "code",
   "execution_count": 41,
   "id": "af155097-e931-4cbb-a661-c3142e5fa525",
   "metadata": {},
   "outputs": [
    {
     "data": {
      "image/png": "[encoded data removed]",
      "text/plain": [
       "<Figure size 432x288 with 1 Axes>"
      ]
     },
     "metadata": {
      "needs_background": "light"
     },
     "output_type": "display_data"
    }
   ],
   "source": [
    "northXaxis = northernRegionResetIndex.country\n",
    "northYaxis = northernRegionResetIndex.price\n",
    "\n",
    "plt.bar(northXaxis,northYaxis)\n",
    "plt.title(\"The Minimum Prices Of Commdities In Northern Region\")\n",
    "plt.xlabel(\"northern countries\")\n",
    "plt.ylabel (\"Commodities Minimum Prices\")\n",
    "plt.xticks(rotation=50)\n",
    "plt.show()"
   ]
  },
  {
   "cell_type": "code",
   "execution_count": 45,
   "id": "674f86fb-4370-4380-89ed-ce345ef99553",
   "metadata": {},
   "outputs": [
    {
     "data": {
      "image/png": "[encoded data removed]",
      "text/plain": [
       "<Figure size 864x432 with 1 Axes>"
      ]
     },
     "metadata": {
      "needs_background": "light"
     },
     "output_type": "display_data"
    }
   ],
   "source": [
    "northdataset = northernRegionResetIndex\n",
    "plt.figure(figsize = (12,6))\n",
    "plt.title(\"Prices Trends Over The Years\")\n",
    "sns.lineplot(x=\"year\",y=\"price\",data=northdataset)\n",
    "plt.xlabel(\"Years\")\n",
    "plt.ylabel(\"prices\")\n",
    "plt.show()"
   ]
  },
  {
   "cell_type": "markdown",
   "id": "882d1737-bd10-495e-b724-cce680bdde26",
   "metadata": {},
   "source": [
    "### Prices Of Commodities In Southern Region"
   ]
  },
  {
   "cell_type": "code",
   "execution_count": 46,
   "id": "72440bb8-6a7e-4646-b41f-f2f1ac182d78",
   "metadata": {},
   "outputs": [
    {
     "data": {
      "image/png": "[encoded data removed]",
      "text/plain": [
       "<Figure size 432x288 with 1 Axes>"
      ]
     },
     "metadata": {
      "needs_background": "light"
     },
     "output_type": "display_data"
    }
   ],
   "source": [
    "southXaxis = southernRegionResetIndex.country\n",
    "southYaxis = southernRegionResetIndex.price\n",
    "\n",
    "plt.bar(southXaxis,southYaxis)\n",
    "plt.title(\"The Minimum Prices Of Commdities In Southern Region\")\n",
    "plt.xlabel(\"southern countries\")\n",
    "plt.ylabel (\"Minimum Prices Commodities\")\n",
    "plt.xticks(rotation=50)\n",
    "plt.show()"
   ]
  },
  {
   "cell_type": "code",
   "execution_count": 47,
   "id": "defa70de-a76f-42f5-ba96-2d4f43d96509",
   "metadata": {},
   "outputs": [
    {
     "data": {
      "image/png": "[encoded data removed]",
      "text/plain": [
       "<Figure size 864x432 with 1 Axes>"
      ]
     },
     "metadata": {
      "needs_background": "light"
     },
     "output_type": "display_data"
    }
   ],
   "source": [
    "southdataset = southernRegionResetIndex\n",
    "plt.figure(figsize = (12,6))\n",
    "plt.title(\"Prices Trends Over The Years\")\n",
    "sns.lineplot(x=\"year\",y=\"price\",data=southdataset)\n",
    "plt.xlabel(\"Years\")\n",
    "plt.ylabel(\"prices\")\n",
    "plt.show()"
   ]
  },
  {
   "cell_type": "code",
   "execution_count": null,
   "id": "e8605a54-4314-46a0-bed4-6fe5528811de",
   "metadata": {},
   "outputs": [],
   "source": []
  }
 ],
 "metadata": {
  "kernelspec": {
   "display_name": "Python 3 (ipykernel)",
   "language": "python",
   "name": "python3"
  },
  "language_info": {
   "codemirror_mode": {
    "name": "ipython",
    "version": 3
   },
   "file_extension": ".py",
   "mimetype": "text/x-python",
   "name": "python",
   "nbconvert_exporter": "python",
   "pygments_lexer": "ipython3",
   "version": "3.9.7"
  }
 },
 "nbformat": 4,
 "nbformat_minor": 5
}
